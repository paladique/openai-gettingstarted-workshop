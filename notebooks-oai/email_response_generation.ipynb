{
  "cells": [
    {
      "cell_type": "markdown",
      "id": "011db2ec",
      "metadata": {},
      "source": [
        "# Azure OpenAI -  Content generation\n",
        " \n",
        "Given a prompt, the model will return one or more predicted completions, and can also return the probabilities of alternative tokens at each position.\n",
        "\n",
        "source: https://learnprompting.org/docs/basic_applications/writing_emails"
      ]
    },
    {
      "cell_type": "markdown",
      "id": "e1966c51",
      "metadata": {},
      "source": [
        "### Setup Parameters\n",
        "\n",
        "\n",
        "Here we will load the configurations from _config.json_ file to setup deployment name, openai api base, openai api key and openai api version."
      ]
    },
    {
      "cell_type": "code",
      "execution_count": 5,
      "id": "56add7c6",
      "metadata": {},
      "outputs": [],
      "source": [
        "import json\n",
        "import openai\n",
        "import os\n",
        "\n",
        "model = \"text-davinci-003\"\n",
        "openai.api_type = \"openai\"\n",
        "\n",
        "# The API key for OpenAI.\n",
        "API_KEY = os.getenv(\"OPENAI_API_KEY\",\"\")\n",
        "assert API_KEY, \"ERROR: Azure OpenAI Key is missing\"\n",
        "openai.api_key = API_KEY\n",
        "\n",
        "RESOURCE_ENDPOINT = \"https://api.openai.com\"\n",
        "assert RESOURCE_ENDPOINT, \"ERROR: OpenAI Endpoint is missing\""
      ]
    },
    {
      "cell_type": "code",
      "execution_count": 6,
      "id": "b15862a1",
      "metadata": {
        "gather": {
          "logged": 1681842044295
        },
        "jupyter": {
          "source_hidden": false
        }
      },
      "outputs": [],
      "source": [
        "def run_completion(prompt: str, model: str, temperature=0.7, max_tokens=100, verbose=False):\n",
        "    try:\n",
        "        # Create a completion for the provided prompt and parameters\n",
        "        # To know more about the parameters, checkout this documentation: https://learn.microsoft.com/en-us/azure/cognitive-services/openai/reference\n",
        "        completion = openai.Completion.create(\n",
        "                        prompt=prompt,\n",
        "                        temperature=temperature,\n",
        "                        max_tokens=max_tokens,\n",
        "                        top_p=1,\n",
        "                        frequency_penalty=0,\n",
        "                        presence_penalty=0,\n",
        "                        model=model)\n",
        "\n",
        "        # print the completion\n",
        "        if (verbose):\n",
        "            print(completion.choices[0].text.strip(\" \\n\"))\n",
        "        \n",
        "        return completion.choices[0].text\n",
        "        \n",
        "        # Here indicating if the response is filtered\n",
        "        if completion.choices[0].finish_reason == \"content_filter\":\n",
        "            print(\"The generated content is filtered.\")\n",
        "            \n",
        "    except openai.error.APIError as e:\n",
        "        # Handle API error here, e.g. retry or log\n",
        "        print(f\"OpenAI API returned an API Error: {e}\")\n",
        "\n",
        "    except openai.error.AuthenticationError as e:\n",
        "        # Handle Authentication error here, e.g. invalid API key\n",
        "        print(f\"OpenAI API returned an Authentication Error: {e}\")\n",
        "\n",
        "    except openai.error.APIConnectionError as e:\n",
        "        # Handle connection error here\n",
        "        print(f\"Failed to connect to OpenAI API: {e}\")\n",
        "\n",
        "    except openai.error.InvalidRequestError as e:\n",
        "        # Handle connection error here\n",
        "        print(f\"Invalid Request Error: {e}\")\n",
        "\n",
        "    except openai.error.RateLimitError as e:\n",
        "        # Handle rate limit error\n",
        "        print(f\"OpenAI API request exceeded rate limit: {e}\")\n",
        "\n",
        "    except openai.error.ServiceUnavailableError as e:\n",
        "        # Handle Service Unavailable error\n",
        "        print(f\"Service Unavailable: {e}\")\n",
        "\n",
        "    except openai.error.Timeout as e:\n",
        "        # Handle request timeout\n",
        "        print(f\"Request timed out: {e}\")"
      ]
    },
    {
      "cell_type": "code",
      "execution_count": 7,
      "id": "3243c47f-4f4b-4840-938b-99f193088ca4",
      "metadata": {
        "gather": {
          "logged": 1681842045413
        },
        "jupyter": {
          "outputs_hidden": false,
          "source_hidden": false
        },
        "nteract": {
          "transient": {
            "deleting": false
          }
        }
      },
      "outputs": [],
      "source": [
        "def print_response(r):\n",
        "    for x in r.split(\"\\n\"):\n",
        "        print(x)\n"
      ]
    },
    {
      "cell_type": "markdown",
      "id": "72effb63-d4ae-4bda-aef6-1b4813f37058",
      "metadata": {
        "nteract": {
          "transient": {
            "deleting": false
          }
        }
      },
      "source": [
        "## Responding to an Email\n",
        "\n",
        "Two-way / two-hop approach:\n",
        "\n",
        "1. Generate summary and action points\n",
        "1. Generate reply based on the summary and action points"
      ]
    },
    {
      "cell_type": "code",
      "execution_count": 8,
      "id": "ec717dfb-cb62-4596-87ac-62517057406a",
      "metadata": {
        "gather": {
          "logged": 1681842052625
        },
        "jupyter": {
          "outputs_hidden": false,
          "source_hidden": false
        },
        "nteract": {
          "transient": {
            "deleting": false
          }
        }
      },
      "outputs": [
        {
          "name": "stdout",
          "output_type": "stream",
          "text": [
            "\n",
            "Summary:\n",
            "\n",
            "John is writing to Mario to update him on the company's efforts to provide a better user experience, as well as to ask for his assistance to address issues with the UI of the software that Mario has been working on. John has received feedback from users regarding difficulty accessing certain features, and believes that Mario’s expertise will help make the necessary modifications. In addition to asking for assistance, John would also appreciate an estimated timeline for when the changes can be completed.\n",
            "\n",
            "Action Items:\n",
            "\n",
            "- Address issues with UI of software \n",
            "- Make changes to layout, design, or functionality of the UI \n",
            "- Request additional resources or support if needed\n",
            "- Provide estimated timeline for completion of changes \n",
            "- Contact John if further clarification is needed\n"
          ]
        }
      ],
      "source": [
        "prompt = \"\"\"\n",
        "Dear Mario,\n",
        "\n",
        "I hope you're doing well. I am writing to provide you with some updates on our company and to request your assistance in addressing an issue with the user interface (UI) of the software you have been working on.\n",
        "\n",
        "As you know, our company has been focusing on providing a user-friendly experience to our customers, and we have identified some issues with the UI of the software. Specifically, we have received feedback from our users that they are having difficulty accessing certain features, and that the UI is not intuitive enough.\n",
        "\n",
        "We need your help to address these issues and make improvements to the UI of the software. This may involve making changes to the layout, design, or functionality of the UI. We believe that your expertise in software development and your familiarity with the software will make you the ideal person to help us with this task.\n",
        "\n",
        "If you need any additional resources or support to complete this task, please do not hesitate to let me know. Additionally, I would appreciate it if you could provide me with an estimated timeline for when you expect these modifications to be completed.\n",
        "\n",
        "If you have any questions or need further clarification, please do not hesitate to contact me.\n",
        "\n",
        "Thank you for your hard work and dedication to our company. I look forward to hearing back from you soon.\n",
        "\n",
        "Best regards,\n",
        "John\n",
        "\n",
        "Generate a summary of this and a list of action items.\n",
        "\"\"\"\n",
        "r = run_completion(prompt=prompt, model=model, temperature=1.0, max_tokens=500, verbose=False)\n",
        "print_response(r)"
      ]
    },
    {
      "cell_type": "code",
      "execution_count": 9,
      "id": "75aa30a2-131d-4b92-80fe-40e09fe5ca54",
      "metadata": {
        "gather": {
          "logged": 1681842062305
        },
        "jupyter": {
          "outputs_hidden": false,
          "source_hidden": false
        },
        "nteract": {
          "transient": {
            "deleting": false
          }
        }
      },
      "outputs": [
        {
          "name": "stdout",
          "output_type": "stream",
          "text": [
            "\n",
            "Dear John,\n",
            "\n",
            "Thank you for bringing the recent feedback about our software's user interface to my attention. I will be happy to help the team address these issues so that we can improve the UI. \n",
            "\n",
            "I can start working on this right away, and I estimate I will be able to have the modifications ready in 4 weeks. I will need to consult with some of the other teams in order to implement the changes but I'm confident I can pull everything together in this timeframe.\n",
            "\n",
            "Please let me know if there is anything else I can do to support this effort and I look forward to making the necessary changes.\n",
            "\n",
            "Thanks,\n",
            "Mario\n"
          ]
        }
      ],
      "source": [
        "prompt = \"\"\"\n",
        "Summary: John is writing to inform Mario of recent feedback the company has received regarding their user interface (UI) of the software. John is requesting Mario's help in addressing these issues and making improvements to the software's UI. \n",
        "\n",
        "Action Items:\n",
        "1. Assess the layout, design, and functionality of the UI and make necessary changes.\n",
        "2. Provide John with an estimated timeline for when these modifications are expected to be complete.\n",
        "3. Let John know if any additional resources or support are needed to complete the task.\n",
        "\n",
        "Write a response email from Mario using the above email summary:\n",
        "\"\"\"\n",
        "\n",
        "r = run_completion(prompt=prompt, model=model, temperature=1.0, max_tokens=500, verbose=False)\n",
        "print_response(r)"
      ]
    }
  ],
  "metadata": {
    "kernel_info": {
      "name": "python3"
    },
    "kernelspec": {
      "display_name": "Python 3 (ipykernel)",
      "language": "python",
      "name": "python3"
    },
    "language_info": {
      "codemirror_mode": {
        "name": "ipython",
        "version": 3
      },
      "file_extension": ".py",
      "mimetype": "text/x-python",
      "name": "python",
      "nbconvert_exporter": "python",
      "pygments_lexer": "ipython3",
      "version": "3.10.8"
    },
    "microsoft": {
      "host": {
        "AzureML": {
          "notebookHasBeenCompleted": true
        }
      },
      "ms_spell_check": {
        "ms_spell_check_language": "en"
      }
    },
    "nteract": {
      "version": "nteract-front-end@1.0.0"
    }
  },
  "nbformat": 4,
  "nbformat_minor": 5
}
